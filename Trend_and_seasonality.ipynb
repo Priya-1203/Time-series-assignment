{
  "nbformat": 4,
  "nbformat_minor": 0,
  "metadata": {
    "colab": {
      "provenance": [],
      "authorship_tag": "ABX9TyOLURlZWadxXB9/cib/qRKR",
      "include_colab_link": true
    },
    "kernelspec": {
      "name": "python3",
      "display_name": "Python 3"
    },
    "language_info": {
      "name": "python"
    }
  },
  "cells": [
    {
      "cell_type": "markdown",
      "metadata": {
        "id": "view-in-github",
        "colab_type": "text"
      },
      "source": [
        "<a href=\"https://colab.research.google.com/github/Priya-1203/Time-series-assignment/blob/main/Trend_and_seasonality.ipynb\" target=\"_parent\"><img src=\"https://colab.research.google.com/assets/colab-badge.svg\" alt=\"Open In Colab\"/></a>"
      ]
    },
    {
      "cell_type": "code",
      "execution_count": null,
      "metadata": {
        "id": "JBaVE5i7uaTz"
      },
      "outputs": [],
      "source": [
        "import numpy as np\n",
        "\n",
        "def moving_average_odd(data, q):\n",
        "  #  Moving average for odd number of data points\n",
        "    n = len(data)\n",
        "    m_t = np.zeros(n)\n",
        "\n",
        "    for t in range(q, n - q):\n",
        "        m_t[t] = np.mean(data[t-q:t+q+1])\n",
        "\n",
        "    return m_t\n",
        "\n",
        "def moving_average_even(data, q):\n",
        "\n",
        "  # Moving average for even number of data points.\n",
        "    n = len(data)\n",
        "    m_t = np.zeros(n)\n",
        "    d = 2*q\n",
        "\n",
        "    for t in range(q, n - q):\n",
        "        m_t[t] = (0.5 * data[t-q] + np.sum(data[t-q+1:t+q]) + 0.5 * data[t+q]) / d\n",
        "\n",
        "    return m_t\n",
        "\n",
        "def calculate_w_k(data, trend, d):\n",
        "\n",
        "  # Calculate w_k (seasonality and irregularity).\n",
        "    n = len(data)\n",
        "    w_k = np.zeros(n)\n",
        "\n",
        "    for k in range(n):\n",
        "        summation = 0\n",
        "        count = 0\n",
        "        for j in range(-(n // d), n // d):\n",
        "            if 0 <= k + j*d < n:\n",
        "                summation += data[k + j*d] - trend[k + j*d]\n",
        "                count += 1\n",
        "        if count > 0:\n",
        "            w_k[k] = summation / count\n",
        "\n",
        "    return w_k\n",
        "\n",
        "def calculate_g_k(w_k, d):\n",
        "\n",
        "  # Calculate g_k (seasonality).\n",
        "    n = len(w_k)\n",
        "    avg_w = np.mean(w_k)\n",
        "    g_k = np.zeros(n)\n",
        "\n",
        "    for k in range(n):\n",
        "        g_k[k] = w_k[k] - avg_w\n",
        "\n",
        "    return g_k\n",
        "\n",
        "\n",
        "data = np.array([0,4,8,7,3,1,5,8,15,13,10])\n",
        "q = 3\n",
        "\n",
        "if len(data) % 2 == 1:\n",
        "    trend = moving_average_odd(data, q)\n",
        "else:\n",
        "    trend = moving_average_even(data, q)\n",
        "\n",
        "w_k = calculate_w_k(data, trend, q)\n",
        "g_k = calculate_g_k(w_k, q)\n",
        "\n",
        "print(\"Trend:\", trend)\n",
        "print(\"Seasonality:\", g_k)\n",
        "print(w_k)"
      ]
    }
  ]
}